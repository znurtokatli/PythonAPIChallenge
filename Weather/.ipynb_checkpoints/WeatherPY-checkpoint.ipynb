{
 "cells": [
  {
   "cell_type": "code",
   "execution_count": 1,
   "metadata": {},
   "outputs": [],
   "source": [
    "# Dependencies and Setup\n",
    "import matplotlib.pyplot as plt\n",
    "import pandas as pd\n",
    "import numpy as np\n",
    "import requests\n",
    "import time\n",
    "import gmaps\n",
    "import datetime\n",
    "\n",
    "from scipy.stats import linregress\n",
    "\n",
    "# Import API key\n",
    "from api_keys import weather_api_key\n",
    "\n",
    "# Incorporated citipy to determine city based on latitude and longitude\n",
    "from citipy import citipy\n",
    "\n",
    "#%matplotlib notebook "
   ]
  },
  {
   "cell_type": "code",
   "execution_count": 2,
   "metadata": {
    "scrolled": true
   },
   "outputs": [],
   "source": [
    "# Output File (CSV)\n",
    "output_data_file = \"output_data/cities.csv\"\n",
    "\n",
    "# Range of latitudes and longitudes\n",
    "lat_range = (-90, 90)\n",
    "lng_range = (-180, 180)"
   ]
  },
  {
   "cell_type": "code",
   "execution_count": 3,
   "metadata": {},
   "outputs": [
    {
     "data": {
      "text/plain": [
       "300"
      ]
     },
     "execution_count": 3,
     "metadata": {},
     "output_type": "execute_result"
    }
   ],
   "source": [
    "# List for holding lat_lngs and cities\n",
    "lat_lngs = []\n",
    "cities = []\n",
    "\n",
    "# Create a set of random lat and lng combinations\n",
    "lats = np.random.uniform(lat_range[0], lat_range[1], size=1500)\n",
    "lngs = np.random.uniform(lng_range[0], lng_range[1], size=1500)\n",
    "\n",
    "lat_lngs = zip(lats, lngs)\n",
    "\n",
    "# Identify nearest city for each lat, lng combination\n",
    "for lat_lng in lat_lngs:\n",
    "    city = citipy.nearest_city(lat_lng[0], lat_lng[1]).city_name\n",
    "    \n",
    "    # If the city is unique, then add it to a our cities list\n",
    "    if city not in cities:\n",
    "        if len(cities) < 501: # if len(cities) < 5 for test 429 error code\n",
    "            cities.append(city)\n",
    "\n",
    "# Print the city count to confirm sufficient count\n",
    "len(cities)"
   ]
  },
  {
   "cell_type": "code",
   "execution_count": 4,
   "metadata": {
    "scrolled": true
   },
   "outputs": [
    {
     "name": "stdout",
     "output_type": "stream",
     "text": [
      "Beginning Data Retrieval \n",
      "-----------------------------\n",
      "Processing Record 1 of Set 1 | barrow\n",
      "Processing Record 2 of Set 1 | albany\n",
      "Processing Record 3 of Set 1 | butaritari\n",
      "Processing Record 4 of Set 1 | viljoenskroon\n",
      "Processing Record 5 of Set 1 | tecoanapa\n",
      "Processing Record 6 of Set 1 | palmital\n",
      "Processing Record 7 of Set 1 | ribeira grande\n",
      "Processing Record 8 of Set 1 | taolanaro\n",
      "Processing Record 9 of Set 1 | vila velha\n",
      "Processing Record 10 of Set 1 | saint-philippe\n",
      "Processing Record 11 of Set 1 | mukhen\n",
      "Processing Record 12 of Set 1 | tsihombe\n",
      "Processing Record 13 of Set 1 | kapaa\n",
      "Processing Record 14 of Set 1 | hilo\n",
      "Processing Record 15 of Set 1 | englehart\n",
      "Processing Record 16 of Set 1 | naryan-mar\n",
      "Processing Record 17 of Set 1 | georgetown\n",
      "Processing Record 18 of Set 1 | hithadhoo\n",
      "Processing Record 19 of Set 1 | cidreira\n",
      "Processing Record 20 of Set 1 | itoman\n",
      "Processing Record 21 of Set 1 | mataura\n",
      "Processing Record 22 of Set 1 | coahuayana\n",
      "Processing Record 23 of Set 1 | ushuaia\n",
      "Processing Record 24 of Set 1 | espanola\n",
      "Processing Record 25 of Set 1 | jamestown\n",
      "Processing Record 26 of Set 1 | goderich\n",
      "Processing Record 27 of Set 1 | liverpool\n",
      "Processing Record 28 of Set 1 | rawson\n",
      "Processing Record 29 of Set 1 | nanortalik\n",
      "Processing Record 30 of Set 1 | vaini\n",
      "Processing Record 31 of Set 1 | port elizabeth\n",
      "Processing Record 32 of Set 1 | bathsheba\n",
      "Processing Record 33 of Set 1 | komsomolskiy\n",
      "Processing Record 34 of Set 1 | ilulissat\n",
      "Processing Record 35 of Set 1 | bengkulu\n",
      "Processing Record 36 of Set 1 | castro\n",
      "Processing Record 37 of Set 1 | punta arenas\n",
      "Processing Record 38 of Set 1 | pokhara\n",
      "Processing Record 39 of Set 1 | katherine\n",
      "Processing Record 40 of Set 1 | hobart\n",
      "Processing Record 41 of Set 1 | atuona\n",
      "Processing Record 42 of Set 1 | raudeberg\n",
      "Processing Record 43 of Set 1 | kavieng\n",
      "Processing Record 44 of Set 1 | sudzha\n",
      "Processing Record 45 of Set 1 | kodiak\n",
      "Processing Record 46 of Set 1 | belushya guba\n",
      "Processing Record 47 of Set 1 | kundiawa\n",
      "Processing Record 48 of Set 1 | vaitupu\n",
      "Processing Record 49 of Set 1 | souillac\n",
      "Processing Record 50 of Set 1 | hermanus\n",
      "Processing Record 0 of Set 2 | kudahuvadhoo\n",
      "Processing Record 1 of Set 2 | muros\n",
      "Processing Record 2 of Set 2 | chagda\n",
      "Processing Record 3 of Set 2 | bluff\n",
      "Processing Record 4 of Set 2 | channel-port aux basques\n",
      "Processing Record 5 of Set 2 | san patricio\n",
      "Processing Record 6 of Set 2 | umm lajj\n",
      "Processing Record 7 of Set 2 | busselton\n",
      "Processing Record 8 of Set 2 | jiroft\n",
      "Processing Record 9 of Set 2 | lavrentiya\n",
      "Processing Record 10 of Set 2 | olafsvik\n",
      "Processing Record 11 of Set 2 | idrinskoye\n",
      "Processing Record 12 of Set 2 | rikitea\n",
      "Processing Record 13 of Set 2 | upernavik\n",
      "Processing Record 14 of Set 2 | baillif\n",
      "Processing Record 15 of Set 2 | puerto ayora\n",
      "Processing Record 16 of Set 2 | sentyabrskiy\n",
      "Processing Record 17 of Set 2 | pisco\n",
      "Processing Record 18 of Set 2 | qaanaaq\n",
      "Processing Record 19 of Set 2 | poum\n",
      "Processing Record 20 of Set 2 | touros\n",
      "Processing Record 21 of Set 2 | nikolskoye\n",
      "Processing Record 22 of Set 2 | balkanabat\n",
      "Processing Record 23 of Set 2 | mar del plata\n",
      "Processing Record 24 of Set 2 | bambous virieux\n",
      "Processing Record 25 of Set 2 | severo-kurilsk\n",
      "Processing Record 26 of Set 2 | arlit\n",
      "Processing Record 27 of Set 2 | saint george\n",
      "Processing Record 28 of Set 2 | magway\n",
      "Processing Record 29 of Set 2 | khani\n",
      "Processing Record 30 of Set 2 | burgstadt\n",
      "Processing Record 31 of Set 2 | la libertad\n",
      "Processing Record 32 of Set 2 | acarau\n",
      "Processing Record 33 of Set 2 | oranjemund\n",
      "Processing Record 34 of Set 2 | sarakhs\n",
      "Processing Record 35 of Set 2 | daytona beach\n",
      "Processing Record 36 of Set 2 | avarua\n",
      "Processing Record 37 of Set 2 | constitucion\n",
      "Processing Record 38 of Set 2 | saskylakh\n",
      "Processing Record 39 of Set 2 | gao\n",
      "Processing Record 40 of Set 2 | arraial do cabo\n",
      "Processing Record 41 of Set 2 | cape town\n",
      "Processing Record 42 of Set 2 | garowe\n",
      "Processing Record 43 of Set 2 | seoul\n",
      "Processing Record 44 of Set 2 | khatanga\n",
      "Processing Record 45 of Set 2 | eyl\n",
      "Processing Record 46 of Set 2 | yellowknife\n",
      "Processing Record 47 of Set 2 | nurobod\n",
      "Processing Record 48 of Set 2 | korcula\n",
      "Processing Record 49 of Set 2 | kamaishi\n",
      "Processing Record 50 of Set 2 | mchinji\n",
      "Processing Record 0 of Set 3 | provideniya\n",
      "Processing Record 1 of Set 3 | sao filipe\n",
      "Processing Record 2 of Set 3 | rio verde de mato grosso\n",
      "Processing Record 3 of Set 3 | yar-sale\n",
      "Processing Record 4 of Set 3 | geraldton\n",
      "Processing Record 5 of Set 3 | chokurdakh\n",
      "Processing Record 6 of Set 3 | de-kastri\n",
      "Processing Record 7 of Set 3 | fairbanks\n",
      "Processing Record 8 of Set 3 | tautira\n",
      "Processing Record 9 of Set 3 | trinidad\n",
      "Processing Record 10 of Set 3 | airai\n",
      "Processing Record 11 of Set 3 | killybegs\n",
      "Processing Record 12 of Set 3 | diego de almagro\n",
      "Processing Record 13 of Set 3 | bethel\n",
      "Processing Record 14 of Set 3 | aykhal\n",
      "Processing Record 15 of Set 3 | vagur\n",
      "Processing Record 16 of Set 3 | zabol\n",
      "Processing Record 17 of Set 3 | rameshki\n",
      "Processing Record 18 of Set 3 | tuatapere\n",
      "Processing Record 19 of Set 3 | port alfred\n",
      "Processing Record 20 of Set 3 | krasnoselkup\n",
      "Processing Record 21 of Set 3 | la asuncion\n",
      "Processing Record 22 of Set 3 | muzhi\n",
      "Processing Record 23 of Set 3 | bouar\n",
      "Processing Record 24 of Set 3 | rosarito\n",
      "Processing Record 25 of Set 3 | acobamba\n",
      "Processing Record 26 of Set 3 | carnarvon\n",
      "Processing Record 27 of Set 3 | nicoya\n",
      "Processing Record 28 of Set 3 | lahaina\n",
      "Processing Record 29 of Set 3 | prince rupert\n",
      "Processing Record 30 of Set 3 | kropotkin\n",
      "Processing Record 31 of Set 3 | tasiilaq\n",
      "Processing Record 32 of Set 3 | esperance\n",
      "Processing Record 33 of Set 3 | cockburn town\n",
      "Processing Record 34 of Set 3 | abakaliki\n",
      "Processing Record 35 of Set 3 | tarko-sale\n",
      "Processing Record 36 of Set 3 | tiznit\n",
      "Processing Record 37 of Set 3 | sao joao da barra\n",
      "Processing Record 38 of Set 3 | yerofey pavlovich\n",
      "Processing Record 39 of Set 3 | gobabis\n",
      "Processing Record 40 of Set 3 | bredasdorp\n",
      "Processing Record 41 of Set 3 | chifeng\n",
      "Processing Record 42 of Set 3 | loutra\n",
      "Processing Record 43 of Set 3 | porto walter\n",
      "Processing Record 44 of Set 3 | rab\n",
      "Processing Record 45 of Set 3 | sao gabriel da cachoeira\n",
      "Processing Record 46 of Set 3 | mys shmidta\n",
      "Processing Record 47 of Set 3 | kungurtug\n",
      "Processing Record 48 of Set 3 | amderma\n",
      "Processing Record 49 of Set 3 | milingimbi\n",
      "Processing Record 50 of Set 3 | haibowan\n",
      "Processing Record 0 of Set 4 | hami\n",
      "Processing Record 1 of Set 4 | grindavik\n",
      "Processing Record 2 of Set 4 | burgos\n",
      "Processing Record 3 of Set 4 | mahebourg\n",
      "Processing Record 4 of Set 4 | khorinsk\n",
      "Processing Record 5 of Set 4 | leningradskiy\n",
      "Processing Record 6 of Set 4 | cabedelo\n",
      "Processing Record 7 of Set 4 | kirakira\n",
      "Processing Record 8 of Set 4 | los llanos de aridane\n",
      "Processing Record 9 of Set 4 | mount airy\n",
      "Processing Record 10 of Set 4 | acapulco\n",
      "Processing Record 11 of Set 4 | golden\n",
      "Processing Record 12 of Set 4 | verkhnyaya toyma\n",
      "Processing Record 13 of Set 4 | bintulu\n",
      "Processing Record 14 of Set 4 | saldanha\n",
      "Processing Record 15 of Set 4 | ukiah\n",
      "Processing Record 16 of Set 4 | shenjiamen\n",
      "Processing Record 17 of Set 4 | rundu\n",
      "Processing Record 18 of Set 4 | wukari\n",
      "Processing Record 19 of Set 4 | vaitape\n",
      "Processing Record 20 of Set 4 | korla\n",
      "Processing Record 21 of Set 4 | wiwili\n",
      "Processing Record 22 of Set 4 | maceio\n",
      "Processing Record 23 of Set 4 | ayagoz\n",
      "Processing Record 24 of Set 4 | cumana\n",
      "Processing Record 25 of Set 4 | longyearbyen\n",
      "Processing Record 26 of Set 4 | port hardy\n",
      "Processing Record 27 of Set 4 | bubaque\n",
      "Processing Record 28 of Set 4 | vazante\n",
      "Processing Record 29 of Set 4 | college\n",
      "Processing Record 30 of Set 4 | izhma\n",
      "Processing Record 31 of Set 4 | oktyabrskiy\n",
      "Processing Record 32 of Set 4 | mareeba\n",
      "Processing Record 33 of Set 4 | ossora\n",
      "Processing Record 34 of Set 4 | tilichiki\n",
      "Processing Record 35 of Set 4 | kruisfontein\n",
      "Processing Record 36 of Set 4 | chuy\n",
      "Processing Record 37 of Set 4 | valparaiso\n",
      "Processing Record 38 of Set 4 | pangnirtung\n",
      "Processing Record 39 of Set 4 | karakol\n",
      "Processing Record 40 of Set 4 | urengoy\n",
      "Processing Record 41 of Set 4 | ancud\n",
      "Processing Record 42 of Set 4 | port blair\n",
      "Processing Record 43 of Set 4 | sokolo\n",
      "Processing Record 44 of Set 4 | moju\n"
     ]
    },
    {
     "name": "stdout",
     "output_type": "stream",
     "text": [
      "Processing Record 45 of Set 4 | tocopilla\n",
      "Processing Record 46 of Set 4 | cooma\n",
      "Processing Record 47 of Set 4 | annau\n",
      "Processing Record 48 of Set 4 | porto santo\n",
      "Processing Record 49 of Set 4 | alofi\n",
      "Processing Record 50 of Set 4 | tuktoyaktuk\n",
      "Processing Record 0 of Set 5 | adrar\n",
      "Processing Record 1 of Set 5 | faya\n",
      "Processing Record 2 of Set 5 | iskele\n",
      "Processing Record 3 of Set 5 | saint anthony\n",
      "Processing Record 4 of Set 5 | moranbah\n",
      "Processing Record 5 of Set 5 | illoqqortoormiut\n",
      "Processing Record 6 of Set 5 | kargopol\n",
      "Processing Record 7 of Set 5 | lebu\n",
      "Processing Record 8 of Set 5 | kloulklubed\n",
      "Processing Record 9 of Set 5 | santa rosa\n",
      "Processing Record 10 of Set 5 | mundi\n",
      "Processing Record 11 of Set 5 | hasaki\n",
      "Processing Record 12 of Set 5 | ertil\n",
      "Processing Record 13 of Set 5 | suntar\n",
      "Processing Record 14 of Set 5 | iqaluit\n",
      "Processing Record 15 of Set 5 | moussoro\n",
      "Processing Record 16 of Set 5 | burriana\n",
      "Processing Record 17 of Set 5 | karlskrona\n",
      "Processing Record 18 of Set 5 | alta floresta\n",
      "Processing Record 19 of Set 5 | trairi\n",
      "Processing Record 20 of Set 5 | nome\n",
      "Processing Record 21 of Set 5 | khromtau\n",
      "Processing Record 22 of Set 5 | labutta\n",
      "Processing Record 23 of Set 5 | cascais\n",
      "Processing Record 24 of Set 5 | halalo\n",
      "Processing Record 25 of Set 5 | lufkin\n",
      "Processing Record 26 of Set 5 | mayo\n",
      "Processing Record 27 of Set 5 | taltal\n",
      "Processing Record 28 of Set 5 | saleaula\n",
      "Processing Record 29 of Set 5 | pevek\n",
      "Processing Record 30 of Set 5 | ambanja\n",
      "Processing Record 31 of Set 5 | andevoranto\n",
      "Processing Record 32 of Set 5 | laguna\n",
      "Processing Record 33 of Set 5 | kitsuki\n",
      "Processing Record 34 of Set 5 | pindiga\n",
      "Processing Record 35 of Set 5 | caluquembe\n",
      "Processing Record 36 of Set 5 | norman wells\n",
      "Processing Record 37 of Set 5 | kaitangata\n",
      "Processing Record 38 of Set 5 | assomada\n",
      "Processing Record 39 of Set 5 | lasa\n",
      "Processing Record 40 of Set 5 | shieli\n",
      "Processing Record 41 of Set 5 | nador\n",
      "Processing Record 42 of Set 5 | new norfolk\n",
      "Processing Record 43 of Set 5 | santa fe\n",
      "Processing Record 44 of Set 5 | bargal\n",
      "Processing Record 45 of Set 5 | saint-joseph\n",
      "Processing Record 46 of Set 5 | clyde river\n",
      "Processing Record 47 of Set 5 | russell\n",
      "Processing Record 48 of Set 5 | port hedland\n",
      "Processing Record 49 of Set 5 | kaili\n",
      "Processing Record 50 of Set 5 | gimli\n",
      "Processing Record 0 of Set 6 | ahipara\n",
      "Processing Record 1 of Set 6 | tuljapur\n",
      "Processing Record 2 of Set 6 | apatou\n",
      "Processing Record 3 of Set 6 | waipawa\n",
      "Processing Record 4 of Set 6 | namibe\n",
      "Processing Record 5 of Set 6 | east london\n",
      "Processing Record 6 of Set 6 | palestine\n",
      "Processing Record 7 of Set 6 | la peca\n",
      "Processing Record 8 of Set 6 | te anau\n",
      "Processing Record 9 of Set 6 | nalut\n",
      "Processing Record 10 of Set 6 | arraias\n",
      "Processing Record 11 of Set 6 | svetlaya\n",
      "Processing Record 12 of Set 6 | isangel\n",
      "Processing Record 13 of Set 6 | talnakh\n",
      "Processing Record 14 of Set 6 | mamallapuram\n",
      "Processing Record 15 of Set 6 | barentsburg\n",
      "Processing Record 16 of Set 6 | mezibori\n",
      "Processing Record 17 of Set 6 | romanovo\n",
      "Processing Record 18 of Set 6 | cardston\n",
      "Processing Record 19 of Set 6 | kahului\n",
      "Processing Record 20 of Set 6 | tidore\n",
      "Processing Record 21 of Set 6 | iranshahr\n",
      "Processing Record 22 of Set 6 | cabo san lucas\n",
      "Processing Record 23 of Set 6 | hobe sound\n",
      "Processing Record 24 of Set 6 | christchurch\n",
      "Processing Record 25 of Set 6 | mount gambier\n",
      "Processing Record 26 of Set 6 | sawankhalok\n",
      "Processing Record 27 of Set 6 | xining\n",
      "Processing Record 28 of Set 6 | glenwood springs\n",
      "Processing Record 29 of Set 6 | saleilua\n",
      "Processing Record 30 of Set 6 | beringovskiy\n",
      "Processing Record 31 of Set 6 | buala\n",
      "Processing Record 32 of Set 6 | samusu\n",
      "Processing Record 33 of Set 6 | tromso\n",
      "Processing Record 34 of Set 6 | vanimo\n",
      "Processing Record 35 of Set 6 | howard springs\n",
      "Processing Record 36 of Set 6 | samarai\n",
      "Processing Record 37 of Set 6 | mehamn\n",
      "Processing Record 38 of Set 6 | saint-augustin\n",
      "Processing Record 39 of Set 6 | gazli\n",
      "Processing Record 40 of Set 6 | hamilton\n",
      "Processing Record 41 of Set 6 | dong hoi\n",
      "Processing Record 42 of Set 6 | perth\n",
      "Processing Record 43 of Set 6 | sarh\n",
      "Processing Record 44 of Set 6 | port lincoln\n",
      "Processing Record 45 of Set 6 | kasongo-lunda\n"
     ]
    }
   ],
   "source": [
    "#define variables\n",
    "base_url = \"http://api.openweathermap.org/data/2.5/weather?appid=\" + weather_api_key \n",
    "record_counter = 0\n",
    "set_counter = 1\n",
    "\n",
    "#define objects\n",
    "country = []\n",
    "lat = []\n",
    "lng = [] \n",
    "date = [] \n",
    "cloudiness = [] \n",
    "humidity = []\n",
    "max_temp = [] \n",
    "wind = []\n",
    " \n",
    "print(f\"Beginning Data Retrieval \\n-----------------------------\") \n",
    "\n",
    "for city in cities:\n",
    "    query_url = base_url + \"&q=maraa\" #+ city\n",
    "    resp_data = requests.get(query_url).json() #request weather data   \n",
    "\n",
    "    if record_counter < 50:\n",
    "        record_counter += 1\n",
    "    else:\n",
    "        record_counter = 0 \n",
    "        set_counter += 1  \n",
    "        \n",
    "    print('Processing Record {} of Set {} | {}'.format(record_counter, set_counter, city)) \n",
    "    \n",
    "    try: \n",
    "        country.append(resp_data['sys']['country'])\n",
    "        lat.append(resp_data['coord']['lat'])\n",
    "        lng.append(resp_data['coord']['lon'])\n",
    "        date.append(datetime.date.fromtimestamp(resp_data['dt'])) #convert timestamp     \n",
    "        cloudiness.append(resp_data['clouds']['all'])\n",
    "        humidity.append(resp_data['main']['humidity'])\n",
    "        max_temp.append(resp_data['main']['temp_max']) \n",
    "        wind.append(resp_data['wind']['speed']) \n",
    "    except:\n",
    "        print(\"404 City Not Found!\")\n",
    "        pass\n",
    "    "
   ]
  },
  {
   "cell_type": "markdown",
   "metadata": {},
   "source": [
    "### Convert Raw Data to DataFrame"
   ]
  },
  {
   "cell_type": "code",
   "execution_count": 6,
   "metadata": {},
   "outputs": [
    {
     "data": {
      "text/html": [
       "<div>\n",
       "<style scoped>\n",
       "    .dataframe tbody tr th:only-of-type {\n",
       "        vertical-align: middle;\n",
       "    }\n",
       "\n",
       "    .dataframe tbody tr th {\n",
       "        vertical-align: top;\n",
       "    }\n",
       "\n",
       "    .dataframe thead th {\n",
       "        text-align: right;\n",
       "    }\n",
       "</style>\n",
       "<table border=\"1\" class=\"dataframe\">\n",
       "  <thead>\n",
       "    <tr style=\"text-align: right;\">\n",
       "      <th></th>\n",
       "      <th>City</th>\n",
       "      <th>Country</th>\n",
       "      <th>Latitude</th>\n",
       "      <th>Longitude</th>\n",
       "      <th>Date</th>\n",
       "      <th>Cloudiness</th>\n",
       "      <th>Humidity</th>\n",
       "      <th>MaxTemp</th>\n",
       "      <th>WindSpeed</th>\n",
       "    </tr>\n",
       "  </thead>\n",
       "  <tbody>\n",
       "    <tr>\n",
       "      <th>0</th>\n",
       "      <td>barrow</td>\n",
       "      <td>BR</td>\n",
       "      <td>-1.8333</td>\n",
       "      <td>-65.3667</td>\n",
       "      <td>2021-02-05</td>\n",
       "      <td>100</td>\n",
       "      <td>98</td>\n",
       "      <td>296.57</td>\n",
       "      <td>1.82</td>\n",
       "    </tr>\n",
       "    <tr>\n",
       "      <th>1</th>\n",
       "      <td>albany</td>\n",
       "      <td>BR</td>\n",
       "      <td>-1.8333</td>\n",
       "      <td>-65.3667</td>\n",
       "      <td>2021-02-05</td>\n",
       "      <td>100</td>\n",
       "      <td>98</td>\n",
       "      <td>296.57</td>\n",
       "      <td>1.82</td>\n",
       "    </tr>\n",
       "    <tr>\n",
       "      <th>2</th>\n",
       "      <td>butaritari</td>\n",
       "      <td>BR</td>\n",
       "      <td>-1.8333</td>\n",
       "      <td>-65.3667</td>\n",
       "      <td>2021-02-05</td>\n",
       "      <td>100</td>\n",
       "      <td>98</td>\n",
       "      <td>296.57</td>\n",
       "      <td>1.82</td>\n",
       "    </tr>\n",
       "    <tr>\n",
       "      <th>3</th>\n",
       "      <td>viljoenskroon</td>\n",
       "      <td>BR</td>\n",
       "      <td>-1.8333</td>\n",
       "      <td>-65.3667</td>\n",
       "      <td>2021-02-05</td>\n",
       "      <td>100</td>\n",
       "      <td>98</td>\n",
       "      <td>296.57</td>\n",
       "      <td>1.82</td>\n",
       "    </tr>\n",
       "    <tr>\n",
       "      <th>4</th>\n",
       "      <td>tecoanapa</td>\n",
       "      <td>BR</td>\n",
       "      <td>-1.8333</td>\n",
       "      <td>-65.3667</td>\n",
       "      <td>2021-02-05</td>\n",
       "      <td>100</td>\n",
       "      <td>98</td>\n",
       "      <td>296.57</td>\n",
       "      <td>1.82</td>\n",
       "    </tr>\n",
       "  </tbody>\n",
       "</table>\n",
       "</div>"
      ],
      "text/plain": [
       "            City Country  Latitude  Longitude        Date  Cloudiness  \\\n",
       "0         barrow      BR   -1.8333   -65.3667  2021-02-05         100   \n",
       "1         albany      BR   -1.8333   -65.3667  2021-02-05         100   \n",
       "2     butaritari      BR   -1.8333   -65.3667  2021-02-05         100   \n",
       "3  viljoenskroon      BR   -1.8333   -65.3667  2021-02-05         100   \n",
       "4      tecoanapa      BR   -1.8333   -65.3667  2021-02-05         100   \n",
       "\n",
       "   Humidity  MaxTemp  WindSpeed  \n",
       "0        98   296.57       1.82  \n",
       "1        98   296.57       1.82  \n",
       "2        98   296.57       1.82  \n",
       "3        98   296.57       1.82  \n",
       "4        98   296.57       1.82  "
      ]
     },
     "execution_count": 6,
     "metadata": {},
     "output_type": "execute_result"
    }
   ],
   "source": [
    "weather = { \"City\": cities, \"Country\": country, \"Latitude\": lat, \"Longitude\": lng, \n",
    "            \"Date\": date, \"Cloudiness\": cloudiness, \"Humidity\": humidity, \"MaxTemp\": max_temp, \"WindSpeed\": wind }\n",
    " \n",
    "weather_df = pd.DataFrame(weather)\n",
    "weather_df.head()"
   ]
  },
  {
   "cell_type": "code",
   "execution_count": 7,
   "metadata": {},
   "outputs": [],
   "source": [
    "#export city data frame into csv\n",
    "weather_df.to_csv(\"../Output/cities.csv\", encoding = \"UTF-8\", index = False, header = True) "
   ]
  },
  {
   "cell_type": "code",
   "execution_count": 13,
   "metadata": {},
   "outputs": [
    {
     "data": {
      "text/plain": [
       "count    300.0\n",
       "mean      98.0\n",
       "std        0.0\n",
       "min       98.0\n",
       "25%       98.0\n",
       "50%       98.0\n",
       "75%       98.0\n",
       "max       98.0\n",
       "Name: Humidity, dtype: float64"
      ]
     },
     "execution_count": 13,
     "metadata": {},
     "output_type": "execute_result"
    }
   ],
   "source": [
    "# Inspect the data and remove the cities where the humidity > 100%.\n",
    "humidity_df = weather_df['Humidity'].describe()\n",
    "humidity_df"
   ]
  },
  {
   "cell_type": "code",
   "execution_count": 14,
   "metadata": {},
   "outputs": [],
   "source": [
    "#  Get the indices of cities that have humidity over 100%.\n"
   ]
  },
  {
   "cell_type": "code",
   "execution_count": 15,
   "metadata": {},
   "outputs": [],
   "source": [
    "# Make a new DataFrame equal to the city data to drop all humidity outliers by index.\n",
    "# Passing \"inplace=False\" will make a copy of the city_data DataFrame, which we call \"clean_city_data\".\n"
   ]
  },
  {
   "cell_type": "markdown",
   "metadata": {},
   "source": [
    "## Plotting the Data"
   ]
  },
  {
   "cell_type": "code",
   "execution_count": 16,
   "metadata": {
    "scrolled": true
   },
   "outputs": [
    {
     "data": {
      "image/png": "[encoded data removed]",
      "text/plain": [
       "<Figure size 432x288 with 1 Axes>"
      ]
     },
     "metadata": {
      "needs_background": "light"
     },
     "output_type": "display_data"
    }
   ],
   "source": [
    "#Latitude vs. Temperature Plot\n",
    "weather_df.plot(kind = \"scatter\", x = \"Latitude\", y = \"MaxTemp\", title = \"Latitude vs Temperature\").grid() \n",
    "plt.savefig(\"../Output/LatitudeVSTemperature.png\")"
   ]
  },
  {
   "cell_type": "code",
   "execution_count": 10,
   "metadata": {},
   "outputs": [
    {
     "data": {
      "image/png": "[encoded data removed]",
      "text/plain": [
       "<Figure size 432x288 with 1 Axes>"
      ]
     },
     "metadata": {
      "needs_background": "light"
     },
     "output_type": "display_data"
    }
   ],
   "source": [
    "#Latitude vs. Humidity Plot\n",
    "weather_df.plot(kind = \"scatter\", x = \"Latitude\", y = \"Humidity\", title = \"Latitude vs Humidity\").grid() \n",
    "plt.savefig(\"../Output/LatitudeVSHumidity.png\")"
   ]
  },
  {
   "cell_type": "code",
   "execution_count": 11,
   "metadata": {},
   "outputs": [
    {
     "data": {
      "image/png": "[encoded data removed]",
      "text/plain": [
       "<Figure size 432x288 with 1 Axes>"
      ]
     },
     "metadata": {
      "needs_background": "light"
     },
     "output_type": "display_data"
    }
   ],
   "source": [
    "#Latitude vs. Cloudiness Plot\n",
    "weather_df.plot(kind = \"scatter\", x = \"Latitude\", y = \"Cloudiness\", title = \"Latitude vs Cloudiness\").grid() \n",
    "plt.savefig(\"../Output/LatitudeVSCloudiness.png\")"
   ]
  },
  {
   "cell_type": "code",
   "execution_count": 12,
   "metadata": {},
   "outputs": [
    {
     "data": {
      "image/png": "[encoded data removed]",
      "text/plain": [
       "<Figure size 432x288 with 1 Axes>"
      ]
     },
     "metadata": {
      "needs_background": "light"
     },
     "output_type": "display_data"
    }
   ],
   "source": [
    "#Latitude vs. Wind Speed Plot\n",
    "weather_df.plot(kind = \"scatter\", x = \"Latitude\", y = \"WindSpeed\", title = \"Latitude vs WindSpeed\").grid() \n",
    "plt.savefig(\"../Output/LatitudevsWindSpeed.png\")"
   ]
  },
  {
   "cell_type": "markdown",
   "metadata": {},
   "source": [
    "## Linear Regression"
   ]
  },
  {
   "cell_type": "code",
   "execution_count": null,
   "metadata": {},
   "outputs": [],
   "source": []
  },
  {
   "cell_type": "markdown",
   "metadata": {},
   "source": [
    "####  Northern Hemisphere - Max Temp vs. Latitude Linear Regression"
   ]
  },
  {
   "cell_type": "code",
   "execution_count": null,
   "metadata": {},
   "outputs": [],
   "source": []
  },
  {
   "cell_type": "markdown",
   "metadata": {},
   "source": [
    "####  Southern Hemisphere - Max Temp vs. Latitude Linear Regression"
   ]
  },
  {
   "cell_type": "code",
   "execution_count": null,
   "metadata": {},
   "outputs": [],
   "source": []
  },
  {
   "cell_type": "markdown",
   "metadata": {},
   "source": [
    "####  Northern Hemisphere - Humidity (%) vs. Latitude Linear Regression"
   ]
  },
  {
   "cell_type": "code",
   "execution_count": null,
   "metadata": {},
   "outputs": [],
   "source": []
  },
  {
   "cell_type": "markdown",
   "metadata": {},
   "source": [
    "####  Southern Hemisphere - Humidity (%) vs. Latitude Linear Regression"
   ]
  },
  {
   "cell_type": "code",
   "execution_count": null,
   "metadata": {},
   "outputs": [],
   "source": []
  },
  {
   "cell_type": "markdown",
   "metadata": {},
   "source": [
    "####  Northern Hemisphere - Cloudiness (%) vs. Latitude Linear Regression"
   ]
  },
  {
   "cell_type": "code",
   "execution_count": null,
   "metadata": {},
   "outputs": [],
   "source": []
  },
  {
   "cell_type": "markdown",
   "metadata": {},
   "source": [
    "####  Southern Hemisphere - Cloudiness (%) vs. Latitude Linear Regression"
   ]
  },
  {
   "cell_type": "code",
   "execution_count": null,
   "metadata": {},
   "outputs": [],
   "source": []
  },
  {
   "cell_type": "markdown",
   "metadata": {},
   "source": [
    "####  Northern Hemisphere - Wind Speed (mph) vs. Latitude Linear Regression"
   ]
  },
  {
   "cell_type": "code",
   "execution_count": null,
   "metadata": {},
   "outputs": [],
   "source": []
  },
  {
   "cell_type": "markdown",
   "metadata": {},
   "source": [
    "####  Southern Hemisphere - Wind Speed (mph) vs. Latitude Linear Regression"
   ]
  },
  {
   "cell_type": "code",
   "execution_count": null,
   "metadata": {},
   "outputs": [],
   "source": []
  },
  {
   "cell_type": "code",
   "execution_count": null,
   "metadata": {},
   "outputs": [],
   "source": []
  }
 ],
 "metadata": {
  "anaconda-cloud": {},
  "kernel_info": {
   "name": "python3"
  },
  "kernelspec": {
   "display_name": "Python 3",
   "language": "python",
   "name": "python3"
  },
  "language_info": {
   "codemirror_mode": {
    "name": "ipython",
    "version": 3
   },
   "file_extension": ".py",
   "mimetype": "text/x-python",
   "name": "python",
   "nbconvert_exporter": "python",
   "pygments_lexer": "ipython3",
   "version": "3.8.5"
  },
  "latex_envs": {
   "LaTeX_envs_menu_present": true,
   "autoclose": false,
   "autocomplete": true,
   "bibliofile": "biblio.bib",
   "cite_by": "apalike",
   "current_citInitial": 1,
   "eqLabelWithNumbers": true,
   "eqNumInitial": 1,
   "hotkeys": {
    "equation": "Ctrl-E",
    "itemize": "Ctrl-I"
   },
   "labels_anchors": false,
   "latex_user_defs": false,
   "report_style_numbering": false,
   "user_envs_cfg": false
  },
  "nteract": {
   "version": "0.12.3"
  }
 },
 "nbformat": 4,
 "nbformat_minor": 4
}
